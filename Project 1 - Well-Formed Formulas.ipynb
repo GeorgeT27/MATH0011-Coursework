{
 "cells": [
  {
   "cell_type": "markdown",
   "metadata": {
    "collapsed": false
   },
   "source": [
    "# Important: do this before starting on the project\n",
    "\n",
    "**Double click here and enter the student numbers for all minigroup members. Don't enter any names.**\n",
    "1. **First student number**\n",
    "2. **Second student number**\n",
    "3. **Third student number.**\n",
    "\n",
    "Now **[click on this link and read the MATH0011 project instructions.](https://www.ucl.ac.uk/~ucahmto/0011/projectinstructions.html)**"
   ]
  },
  {
   "cell_type": "markdown",
   "metadata": {
    "collapsed": false
   },
   "source": [
    "# Project 1 - Well-Formed Formulas\n",
    "\n",
    "In this project you are going to design a Python class to represent the well-formed formulas you learned about in MATH0005 Algebra 1.  You will write class methods that evaluate a WFF at a given truth assignment and that produce a string representation of a WFF suitable for use with the Python `print` function.  You will also write a functions for checking logical equivalences between WFFs represented by instances of your class.\n",
    "\n",
    "This is a good project for anyone interested in working as a software developer, since designing classes and methods to represent and work with data is an important part of the popular [object oriented programming](https://en.wikipedia.org/wiki/Object-oriented_programming) paradigm. "
   ]
  },
  {
   "cell_type": "markdown",
   "metadata": {
    "collapsed": false
   },
   "source": [
    "## Part 1 - the WFF class and subclasses\n",
    "\n",
    "Often when we write classes we come across a situation where one type of object is a special kind of another type. For example, we might have a class `Person` representing people and a class `Student` representing students. Every student is also a person, so every `Student` object should also be a `Person` and be able to do everything a `Person` can do. We say that the class `Student` is a *subclass* of `Person` and that the `Student` should *inherit* the methods and instance variables from `Person`.  To make this happen we define the `Person` class as usual and then do this:\n",
    "\n",
    "```python\n",
    "class Student(Person):\n",
    "    # class definition goes here\n",
    "```\n",
    "\n",
    "Writing `Student(Person)` ensures that a `Student` is a special kind of `Person` and that an instance of the `Student` class will be able to use any methods defined in `Person`.\n",
    "\n",
    "In Algebra 1 you saw that there were five different kinds of WFF:\n",
    "\n",
    " - a propositional variable\n",
    " - a WFF of the form $\\neg \\phi$, where $\\phi$ is a WFF\n",
    " - a WFF of the form $(\\phi \\wedge \\psi)$, where $\\phi$ and $\\psi$ are WFFs\n",
    " - a WFF of the form $(\\phi \\vee \\psi)$, where $\\phi$ and $\\psi$ are WFFs\n",
    " - a WFF of the form $(\\phi \\implies \\psi)$, where $\\phi$ and $\\psi$ are WFFs\n",
    "\n",
    "Each of these is a \"special kind of WFF\", so we will use a single class `WFF` with five subclasses `PropVarWFF`, `NotWFF`, `AndWFF`, `OrWFF`, and `ImpliesWFF` to represent our formulas.  \n",
    "\n",
    "The classes `AndWFF`, `OrWFF`, and `ImpliesWFF` will each have two instance variables `left` and `right` which represent the WFFs on the left and the right of the connective. As an example, given two `WFF`s `phi` and `psi` (of any kind) people using the class must be able to create an `AndWFF` that represents `(phi ∧ psi)` by calling `AndWFF(phi, psi)`, which should set the `left` instance variable of the `AndWFF` object to `phi` and the `right` instance variable to `psi`.\n",
    "\n",
    "The class `NotWFF` should have a single instance variable `formula`, which will be a `WFF` of any kind. `NotWFF(formula)` will represent `¬ formula`.\n",
    "\n",
    "The class `PropVarWFF` will have a single instance variable `name`, which will be a string. `PropVarWFF(\"p\")`, for example, will represent a WFF which is a propositional variable called `p`.\n",
    "\n",
    "Your task in part 1 is to **write the `__init__` method for each of these five classes in the code cells below**.  Don't make any changes to the `WFF` class itself yet.  I have written the `__init__` function for `AndWFF` for you.\n",
    "\n",
    "At the moment these classes won't do anything at all (in fact, trying to run the cells will give an error because the class bodies are empty). We will add functionality in the next three parts."
   ]
  },
  {
   "cell_type": "code",
   "execution_count": 65,
   "metadata": {
    "collapsed": false
   },
   "outputs": [],
   "source": [
    "from itertools import product\n",
    "class WFF():\n",
    "    def equiv(self,other,variables):\n",
    "        result_list=[]\n",
    "        variables_lens=len(variables)\n",
    "        for true_assigment in product([True,False],repeat=variables_lens):\n",
    "            dict={}\n",
    "            i=0\n",
    "            for bool in true_assigment:\n",
    "                dict[variables[i]]=bool\n",
    "                i+=1\n",
    "            result=self.eval(dict)==other.eval(dict)\n",
    "            result_list.append(result)\n",
    "        return all(result_list)==True\n",
    "        "
   ]
  },
  {
   "cell_type": "code",
   "execution_count": 66,
   "metadata": {
    "collapsed": false
   },
   "outputs": [],
   "source": [
    "class PropVarWFF(WFF):\n",
    "    def __init__(self, phi):\n",
    "        self.phi=phi\n",
    "    def __str__(self):\n",
    "        return str(self.phi)\n",
    "    def eval(self,ta):\n",
    "        return (ta[self.phi])\n",
    "        # class representing a propositional variable considered as a WFF"
   ]
  },
  {
   "cell_type": "code",
   "execution_count": 67,
   "metadata": {
    "collapsed": false
   },
   "outputs": [],
   "source": [
    "class NotWFF(WFF):\n",
    "    def __init__(self,formula):\n",
    "        self.formula=formula\n",
    "    def eval(self,ta):\n",
    "        try:\n",
    "            return (not ta[self.formula])\n",
    "        except:\n",
    "            return not self.formula.eval(ta)\n",
    "    def __str__(self):\n",
    "        return \"¬\" + str(self.formula)\n",
    "    # class representing a WFF of the form ¬ϕ"
   ]
  },
  {
   "cell_type": "code",
   "execution_count": 68,
   "metadata": {
    "collapsed": false
   },
   "outputs": [],
   "source": [
    "class AndWFF(WFF):\n",
    "    def __init__(self, left, right):\n",
    "        self.left = left\n",
    "        self.right = right\n",
    "    def eval(self,ta):\n",
    "        if self.left in ta.keys() and self.right in ta.keys():\n",
    "            return ta[self.left] and ta[self.right]\n",
    "        elif self.left in ta.keys() and self.right not in ta.keys():\n",
    "            return ta[self.left] and self.right.eval(ta)\n",
    "        elif self.left not in ta.keys() and self.right in ta.keys():\n",
    "            return self.left.eval(ta) and ta[self.right]\n",
    "        else:\n",
    "            return self.left.eval(ta) and self.right.eval(ta)\n",
    "    \n",
    "        # if self.left is PropVarWFF(WFF) and self.right is PropVarWFF(WFF):\n",
    "        #     return (ta[str(self.left)] and ta[str(self.right)])\n",
    "        # elif self.left is PropVarWFF():\n",
    "        #     return (ta[str(self.left)] and ta[self.right])\n",
    "          \n",
    "    def __str__(self):\n",
    "        return \"(\"+str(self.left) + \"∧\" + str(self.right)+\")\""
   ]
  },
  {
   "cell_type": "code",
   "execution_count": 69,
   "metadata": {
    "collapsed": false,
    "scrolled": true
   },
   "outputs": [],
   "source": [
    "class OrWFF(WFF):\n",
    "    def __init__(self, left, right):\n",
    "        self.left = left\n",
    "        self.right = right \n",
    "    def eval(self,ta):\n",
    "        if self.left in ta.keys() and self.right in ta.keys():\n",
    "            return ta[self.left] or ta[self.right]\n",
    "        elif self.left in ta.keys() and self.right not in ta.keys():\n",
    "            return ta[self.left] or self.right.eval(ta)\n",
    "        elif self.left not in ta.keys() and self.right in ta.keys():\n",
    "            return self.left.eval(ta) or ta[self.right]\n",
    "        else:\n",
    "            return self.left.eval(ta) or self.right.eval(ta)\n",
    "    def __str__(self):\n",
    "        return \"(\"+str(self.left) + \"∨\" + str(self.right)+\")\"\n",
    "    # class representing a WFF of the form (φ ∨ ψ)"
   ]
  },
  {
   "cell_type": "code",
   "execution_count": 70,
   "metadata": {
    "collapsed": false
   },
   "outputs": [],
   "source": [
    "class ImpliesWFF(WFF):\n",
    "    def __init__(self, left, right):\n",
    "        self.left = left\n",
    "        self.right = right\n",
    "    def eval(self,ta):\n",
    "        if self.left in ta.keys() and self.right in ta.keys():\n",
    "            return not(ta[self.left]) or ta[self.right]\n",
    "        elif self.left in ta.keys() and self.right not in ta.keys():\n",
    "            return not(ta[self.left]) or self.right.eval(ta)\n",
    "        elif self.left not in ta.keys() and self.right in ta.keys():\n",
    "            return not(self.left.eval(ta)) or ta[self.right]\n",
    "        else:\n",
    "            return not(self.left.eval(ta)) or self.right.eval(ta)\n",
    "    def __str__(self):\n",
    "        return \"(\"+str(self.left) + \"⇒\" + str(self.right)+\")\"\n",
    "    # class representing a WFF of the form (φ ⇒ ψ)"
   ]
  },
  {
   "cell_type": "code",
   "execution_count": null,
   "metadata": {
    "collapsed": false
   },
   "outputs": [],
   "source": []
  },
  {
   "cell_type": "markdown",
   "metadata": {
    "collapsed": false
   },
   "source": [
    "## Part 2 - implementing `__str__(self)`\n",
    "\n",
    "In this part your task is to **write an `__str__(self)` method for each of the five classes `PropVarWFF`, `NotWFF`, `AndWFF`, `OrWFF`, and `ImpliesWFF`**.  You must put your code in the cells above where you wrote the `__init__` methods.\n",
    "\n",
    "Recall that `__str__(self)` must return a string representing `self`, and that once a class has an `__str__(self)` method, `print`ing an instance of that class will display the string produced by `__str__`.  \n",
    "\n",
    "Writing the `__str__(self)` method for the `PropVarWFF` class will be easy since it already has the name of the propositional variable as an instance variable.  It just needs to return the instance variable `self.name`.  On the other hand the `__str__(self)` method of the `NotWFF` class should print out a `¬` symbol and then the string representation of the `formula` instance variable, so you will have to call the `__str__` method of `self.formula`. Recall that you can join two strings together with `+`.\n",
    "\n",
    "The other three classes are similar to `NotWFF` in that you will have to call the `__str__` method of the two instance variables `self.left` and `self.right`, and combine these with brackets and the symbol for the relevant logical connective.\n",
    "\n",
    "You can copy and paste the following symbols: ¬ ∨ ∧ ⇒ for use in your implementations of `__str__`.\n",
    "\n",
    "I have included some test cases below followed by a comment specifying the correct output. **Your code must give the correct output in each of these cases** although you will not lose marks for having more or less spaces in your output. Please remember that just because your implementations of `__str__` work for these cases does not mean that they work for *any* WFF, and to get full marks your code must be correct in general.  You may want to add further tests to see if your code works for other WFFs."
   ]
  },
  {
   "cell_type": "code",
   "execution_count": 71,
   "metadata": {
    "collapsed": false
   },
   "outputs": [
    {
     "name": "stdout",
     "output_type": "stream",
     "text": [
      "p\n",
      "q\n",
      "¬p\n",
      "(p∧q)\n",
      "(q∨p)\n",
      "(p⇒q)\n",
      "(q∧(p∨q))\n",
      "(p⇒¬(q∧r))\n",
      "(p∧(q∧r))\n"
     ]
    }
   ],
   "source": [
    "p = PropVarWFF(\"p\")\n",
    "q = PropVarWFF(\"q\")\n",
    "r = PropVarWFF(\"r\")\n",
    "\n",
    "not_p = NotWFF(p)\n",
    "p_and_q = AndWFF(p, q)\n",
    "q_or_p = OrWFF(q, p)\n",
    "p_implies_q = ImpliesWFF(p, q)\n",
    "\n",
    "phi = AndWFF(q, OrWFF(p, q))\n",
    "psi = ImpliesWFF(p, NotWFF(AndWFF(q, r)))\n",
    "theta = AndWFF(p, AndWFF(q, r))\n",
    "\n",
    "print(p) # correct output: p\n",
    "print(q) # correct output: q\n",
    "\n",
    "print(not_p) # correct output: ¬p\n",
    "print(p_and_q) # correct output: (p ∧ q)\n",
    "print(q_or_p) # correct output: (p ∨ q)\n",
    "print(p_implies_q) # correct output: (p ⇒ q)\n",
    "\n",
    "print(phi) # correct output: (q ∧ (p ∨ q))\n",
    "print(psi) # correct output: (p ⇒ ¬(q ∧ r))\n",
    "print(theta) # correct output: (p ∧ (q ∧ r))"
   ]
  },
  {
   "cell_type": "code",
   "execution_count": null,
   "metadata": {
    "collapsed": false
   },
   "outputs": [],
   "source": []
  },
  {
   "cell_type": "code",
   "execution_count": 72,
   "metadata": {
    "collapsed": false
   },
   "outputs": [],
   "source": [
    "# Use this code cell for your own test cases"
   ]
  },
  {
   "cell_type": "markdown",
   "metadata": {
    "collapsed": false
   },
   "source": [
    "## Part 3 - evaluating at a truth assignment\n",
    "\n",
    "Recall that a truth assignment is a function that maps a set of propositional variables to truth values. We will represent truth assignments using dictionaries whose keys are strings (the names of the propositional variables) and whose values are `bool`s. For example\n",
    "\n",
    "```python\n",
    "ta = {\"p\": True, \"q\": False, \"r\": True}\n",
    "```\n",
    "represents a truth assignment on the propositional variables p, q, and r making p true, q false, and r true.\n",
    "\n",
    "**For each of the five classes above, write a class method `eval(self, ta)` which returns the truth value of the WFF under the truth assignment `ta`**.  Your code should go in the code cells at the top of this notebook.  You can assume that `ta` contains the name of every propositional variable involved in the WFF as a key.\n",
    "\n",
    "For the `PropVarWFF` class, writing the `eval(self, ta)` method is easy: it should just return the value `ta[self.name]`.  For the other classes you will need to use the Python logical operators `and`, `or`, `not` to compute the correct truth value in terms of the truth values for `self.left` and `self.right` (or `self.formula` in the case of `NotWFF`), just like you worked out the string representation for a WFF using the string representations of its component parts in Part 2 of this notebook.\n",
    "\n",
    "I have written a few test cases in the cell below, but again *just because your code works in these cases does not mean that it is correct in general.* You will definitely want to create your own tests to help verify that your code is correct.  When you've written your code and want to test it, you must re-run the cell that defines the WFFs `p`, `p_and_q`, ... first."
   ]
  },
  {
   "cell_type": "code",
   "execution_count": 73,
   "metadata": {
    "collapsed": false
   },
   "outputs": [
    {
     "name": "stdout",
     "output_type": "stream",
     "text": [
      "True\n",
      "False\n",
      "False\n",
      "True\n",
      "False\n",
      "True\n",
      "True\n"
     ]
    }
   ],
   "source": [
    "ta1 = {\"p\": True, \"q\": False, \"r\": True}\n",
    "ta2 = {\"p\": True, \"q\": True, \"r\": False}\n",
    "\n",
    "print(p.eval(ta1)) # correct output: True\n",
    "print(r.eval(ta2)) # correct output:False\n",
    "\n",
    "print(p_and_q.eval(ta1)) # correct output: False\n",
    "print(q_or_p.eval(ta1)) # correct output: True\n",
    "print(p_implies_q.eval(ta1)) # correct output: False\n",
    "\n",
    "print(phi.eval(ta2)) # correct output: True\n",
    "print(psi.eval(ta2))"
   ]
  },
  {
   "cell_type": "markdown",
   "metadata": {
    "collapsed": false
   },
   "source": [
    "## Part 4 - logical equivalences\n",
    "\n",
    "We haven't put anything into the `WFF` class itself yet because the code we wrote wasn't the same for all of our five subclasses.  In this last part you are going to **add a method `equiv(self, other, variables)` to the `WFF` class**.  Don't add it to any of the subclasses, just to the WFF class.  Because all of the other classes inherit from `WFF`, objects of any of our five subclasses will be able to call the `equiv` method.\n",
    "\n",
    "**`equiv(self, other, variables)` should return `True` if the WFFs represented by `self` and `other` are logically equivalent, and `False` otherwise**.  The argument `variables` will be a list of strings, the names of the propositional variables involved in `self` and `other` (really we could work these out from `self` and `other`, but I'm including the list of variables as an argument to keep things simple).\n",
    "\n",
    "Recall that two WFFs are said to be logically equivalent if they have the same truth value under every truth assignment. Since you have already written an `eval(self, ta)` function, all you need to do is to generate all possible truth assignments on the variables from the list `variables` and for each truth assignment `ta` check if `self.eval(ta)` is equal to `other.eval(ta)`.\n",
    "\n",
    "To generate all the truth assignments, you might find the `product` function from the `itertools` module helpful.  `product([1, 2, 3], repeat=n)` generates every tuple of length `n` whose elements are either `1`, `2`, or `3`, that is, it generates the cartesian product of `[1, 2, 3]` with itself `n` times. You could use this tuples to create the four different truth assignment dictionaries for two propositional variables.  The documentation for `itertools.product` is [here](https://docs.python.org/3/library/itertools.html).\n",
    "\n",
    "Once more I have written a few test cases below, but your code must work for all `WFF`s and not just for the examples I have given.  In particular, your code must work for any number of propositional variables, not just 2."
   ]
  },
  {
   "cell_type": "code",
   "execution_count": 74,
   "metadata": {
    "collapsed": false
   },
   "outputs": [
    {
     "name": "stdout",
     "output_type": "stream",
     "text": [
      "True\n",
      "True\n",
      "True\n",
      "True\n",
      "False\n",
      "False\n",
      "False\n"
     ]
    }
   ],
   "source": [
    "# one of De Morgan's laws\n",
    "print(NotWFF(OrWFF(p, q)).equiv(AndWFF(NotWFF(p), NotWFF(q)), [\"p\", \"q\"])) # correct output: True\n",
    "\n",
    "# p ≡ p\n",
    "print(p.equiv(p, [\"p\"])) # correct output: True\n",
    "\n",
    "# Commutativity of and\n",
    "print(AndWFF(p, q).equiv(AndWFF(q, p), [\"p\", \"q\"])) # correct output: True\n",
    "\n",
    "# Distributivity of and over or\n",
    "print(AndWFF(p, OrWFF(q, r)).equiv(OrWFF(AndWFF(p, q), AndWFF(p, r)), [\"p\", \"q\", \"r\"])) # correct output: True\n",
    "\n",
    "# some nonequivalences\n",
    "print(p.equiv(q, [\"q\", \"p\"])) # correct output: False\n",
    "print(NotWFF(OrWFF(p, q)).equiv(AndWFF(NotWFF(p), q), [\"p\", \"q\"])) # correct output: False\n",
    "print(AndWFF(p, OrWFF(q, r)).equiv(OrWFF(AndWFF(p, q), AndWFF(q, r)), [\"p\", \"q\", \"r\"])) # correct output: False"
   ]
  },
  {
   "cell_type": "code",
   "execution_count": 75,
   "metadata": {
    "collapsed": false
   },
   "outputs": [],
   "source": [
    "# Use this cell for your own test cases"
   ]
  },
  {
   "cell_type": "markdown",
   "metadata": {
    "collapsed": false
   },
   "source": [
    "# Submitting your project\n",
    "\n",
    "**Make sure you have done all of the following things.**\n",
    "\n",
    "0. Included **all** minigroup members' student numbers at the top of this notebook.\n",
    "1. Read through every part of the project to check you have answered all of it.\n",
    "2. Carefully read and followed all of the [MATH0011 project instructions](https://www.ucl.ac.uk/~ucahmto/0011/projectinstructions.html).\n",
    "3. Checked that all of your code works correctly.\n",
    "\n",
    "If you have, you're ready to submit.  One minigroup member only should download the completed notebook (in CoCalc, click the File menu next to the green Save button, then click Download) and submit it on the MATH0011 Moodle.  Please submit **one .ipynb file per minigroup.**"
   ]
  },
  {
   "cell_type": "markdown",
   "metadata": {
    "collapsed": false
   },
   "source": [
    "(Want to take this project further? Here are some suggestions.  You could try to implement `__eq__`, for which you'll need to learn about the `isinstance` function. You could write a function that returns the set containing the names of the propositional variables involved in a WFF, and use it to improve the function in Part 4 so that we didn't have to supply a list of variables.  You could write a new set of classes that can cope with more general formulas like `(p ∧ q ∧ r)`.....  You won't get any more marks for doing this, but you will certainly learn something about programming and classes)"
   ]
  }
 ],
 "metadata": {
  "interpreter": {
   "hash": "40d3a090f54c6569ab1632332b64b2c03c39dcf918b08424e98f38b5ae0af88f"
  },
  "kernelspec": {
   "display_name": "Python 3.9.12 ('base')",
   "language": "python",
   "name": "python3"
  },
  "language_info": {
   "codemirror_mode": {
    "name": "ipython",
    "version": 3
   },
   "file_extension": ".py",
   "mimetype": "text/x-python",
   "name": "python",
   "nbconvert_exporter": "python",
   "pygments_lexer": "ipython3",
   "version": "3.9.12"
  }
 },
 "nbformat": 4,
 "nbformat_minor": 4
}
